{
  "cells": [
    {
      "cell_type": "markdown",
      "metadata": {
        "id": "SWE-YUBsNthe"
      },
      "source": [
        "## **Spark ML Assignment**\n",
        "The goal of this assignment is to (1) use Spark to analyze and process data and (2) to train a Spark ML Model.\n",
        "\n",
        "This notebook was run using Google Colab. \n",
        "\n"
      ]
    },
    {
      "cell_type": "markdown",
      "metadata": {
        "id": "tBqp2EKl2mhX"
      },
      "source": [
        "## **Install PySpark Dependencies**\n",
        "code provided by instructor for this part, load data, and for some of the imports of libraries."
      ]
    },
    {
      "cell_type": "code",
      "execution_count": null,
      "metadata": {
        "id": "qXWkpWwR2gVR"
      },
      "outputs": [],
      "source": [
        "# Install Spark dependencies\n",
        "!apt-get install openjdk-8-jdk-headless -qq > /dev/null\n",
        "!rm spark-3.2.3-bin-hadoop3.2.tgz\n",
        "!wget --no-cookies --no-check-certificate https://dlcdn.apache.org/spark/spark-3.2.3/spark-3.2.3-bin-hadoop3.2.tgz\n",
        "!tar zxvf spark-3.2.3-bin-hadoop3.2.tgz\n",
        "!pip install -q findspark\n",
        "!pip install pyspark==3.2.3"
      ]
    },
    {
      "cell_type": "markdown",
      "metadata": {
        "id": "BEciKx-M2y75"
      },
      "source": [
        "## **Load Data**"
      ]
    },
    {
      "cell_type": "code",
      "execution_count": null,
      "metadata": {
        "id": "iYrbIewX23lA",
        "scrolled": true
      },
      "outputs": [],
      "source": [
        "!wget https://raw.githubusercontent.com/zaratsian/Datasets/master/banking_attrition.csv"
      ]
    },
    {
      "cell_type": "markdown",
      "metadata": {
        "id": "8BpC4MLS25kj"
      },
      "source": [
        "## **Import Python / Spark Libraries**"
      ]
    },
    {
      "cell_type": "code",
      "execution_count": null,
      "metadata": {
        "id": "lRZl0-Xt2_NE"
      },
      "outputs": [],
      "source": [
        "import os\n",
        "os.environ[\"JAVA_HOME\"]  = \"/usr/lib/jvm/java-8-openjdk-amd64\"\n",
        "os.environ[\"SPARK_HOME\"] = \"/content/spark-3.2.3-bin-hadoop3.2\"\n",
        "\n",
        "import datetime, time\n",
        "import re, random, sys\n",
        "\n",
        "# Note - Not all of these will be used. \n",
        "from pyspark import SparkContext\n",
        "from pyspark.sql import SparkSession\n",
        "from pyspark.sql.types import StructType, StructField, ArrayType, IntegerType, StringType, FloatType, LongType, DateType\n",
        "from pyspark.sql.functions import struct, array, lit, monotonically_increasing_id, col, expr, when, concat, udf, split, size, lag, count, isnull\n",
        "from pyspark.sql import Window\n",
        "from pyspark.ml.linalg import Vectors\n",
        "from pyspark.ml.regression import GBTRegressor, LinearRegression, GeneralizedLinearRegression, RandomForestRegressor\n",
        "from pyspark.ml.classification import GBTClassifier, RandomForestClassifier, LogisticRegression\n",
        "from pyspark.ml.feature import VectorIndexer, VectorAssembler, StringIndexer, IndexToString\n",
        "from pyspark.ml.evaluation import RegressionEvaluator\n",
        "from pyspark.ml import Pipeline, PipelineModel\n",
        "from pyspark.ml.evaluation import MulticlassClassificationEvaluator, RegressionEvaluator, BinaryClassificationEvaluator"
      ]
    },
    {
      "cell_type": "code",
      "execution_count": null,
      "metadata": {
        "id": "WgIUq547XuT2"
      },
      "outputs": [],
      "source": [
        "from pyspark.ml.tuning import TrainValidationSplit, ParamGridBuilder\n",
        "from pyspark.ml.tuning import TrainValidationSplitModel"
      ]
    },
    {
      "cell_type": "markdown",
      "metadata": {
        "id": "nvK0YRFx78RY"
      },
      "source": [
        "## **Create Spark Session**"
      ]
    },
    {
      "cell_type": "code",
      "execution_count": null,
      "metadata": {
        "id": "dwGkL0GW7-_j"
      },
      "outputs": [],
      "source": [
        "spark = SparkSession.builder.appName(\"Spark ML Assignment\").master(\"local[*]\").getOrCreate()"
      ]
    },
    {
      "cell_type": "markdown",
      "metadata": {
        "id": "gnbtnMcp4v3E"
      },
      "source": [
        "## **Load CSV Data into Spark Dataframe**"
      ]
    },
    {
      "cell_type": "code",
      "execution_count": null,
      "metadata": {
        "colab": {
          "base_uri": "https://localhost:8080/"
        },
        "id": "062IYTp24zQh",
        "outputId": "a0fa9c1e-b5ff-4cf0-b92c-975bf37e69d7"
      },
      "outputs": [
        {
          "name": "stdout",
          "output_type": "stream",
          "text": [
            "+-------+---+---------+--------------+--------------+-----------+-------+-------+----+------+-------------+----------+-------+-----------------+---------+\n",
            "|    uid|age|age_group|    profession|marital_status|  education|default|housing|loan|gender|      balance|membership|charges|customer_contacts|attrition|\n",
            "+-------+---+---------+--------------+--------------+-----------+-------+-------+----+------+-------------+----------+-------+-----------------+---------+\n",
            "|1000001| 69|      60s|       retired|       married|high school|     no|     no|  no|female| $50k - $100k|      gold|     74|                5|        0|\n",
            "|1000002| 46|      40s|    management|       married|high school|    yes|     no|  no|  male|  $10k - $50k|    silver|    149|                1|        0|\n",
            "|1000003| 45|      40s|    management|       married|high school|     no|     no|  no|female|$100k - $250k|  platinum|     58|                5|        1|\n",
            "|1000004| 54|      50s|administration|      divorced|   graduate|     no|    yes|  no|female|  $10k - $50k|    silver|    317|                4|        1|\n",
            "|1000005| 36|      30s|    management|        single|high school|     no|    yes|  no|  male| $50k - $100k|      gold|    139|                8|        0|\n",
            "|1000006| 25|      20s|       student|       married|   graduate|     no|     no|  no|  male|   Over $250k|  platinum|     21|                8|        0|\n",
            "|1000007| 54|      50s|    management|        single|high school|     no|    yes| yes|female|   Over $250k|  platinum|    128|                0|        0|\n",
            "|1000008| 49|      40s| manufacturing|        single|   graduate|     no|    yes| yes|  male| $50k - $100k|      gold|     40|                0|        0|\n",
            "|1000009| 30|      30s|  entrepreneur|       married|   graduate|     no|     no| yes|  male|$100k - $250k|  platinum|    126|                0|        0|\n",
            "|1000010| 43|      40s|    technician|       married|high school|     no|     no|  no|female|$100k - $250k|  platinum|    102|                1|        0|\n",
            "+-------+---+---------+--------------+--------------+-----------+-------+-------+----+------+-------------+----------+-------+-----------------+---------+\n",
            "only showing top 10 rows\n",
            "\n"
          ]
        }
      ],
      "source": [
        "input_bucket = 'banking_attrition.csv' # this was loaded into local colab drive with wget\n",
        "df = spark.read.csv(input_bucket, header=True, inferSchema=True)\n",
        "df.show(10)"
      ]
    },
    {
      "cell_type": "markdown",
      "metadata": {
        "id": "Wu8K-qCi2-Kk"
      },
      "source": [
        "## **Data Exploration**\n",
        "Perform at least one data exploration of your choice (This could be a basic show(), an aggregation/[groupby](https://spark.apache.org/docs/latest/api/python/pyspark.sql.html#pyspark.sql.DataFrame.groupBy), [correlation](https://spark.apache.org/docs/latest/ml-statistics.html#correlation), [summarizer](https://spark.apache.org/docs/latest/ml-statistics.html#summarizer), etc.)"
      ]
    },
    {
      "cell_type": "code",
      "execution_count": null,
      "metadata": {
        "colab": {
          "base_uri": "https://localhost:8080/"
        },
        "id": "_sBDC5db4FL-",
        "outputId": "ec250d54-c167-4a50-ee5a-bd4dfd3938ad"
      },
      "outputs": [
        {
          "name": "stdout",
          "output_type": "stream",
          "text": [
            "+-------+------------------+------------------+---------+--------------+--------------+---------+-------+-------+-----+------+-------------+----------+------------------+------------------+-------------------+\n",
            "|summary|               uid|               age|age_group|    profession|marital_status|education|default|housing| loan|gender|      balance|membership|           charges| customer_contacts|          attrition|\n",
            "+-------+------------------+------------------+---------+--------------+--------------+---------+-------+-------+-----+------+-------------+----------+------------------+------------------+-------------------+\n",
            "|  count|             45211|             45211|    45211|         45211|         45211|    45211|  45211|  45211|45211| 45211|        45211|     45211|             45211|             45211|              45211|\n",
            "|   mean|         1022606.0| 41.06354648205083|     null|          null|          null|     null|   null|   null| null|  null|         null|      null|123.77065315962929| 1.944593129990489|0.22560881201477517|\n",
            "| stddev|13051.435846935257|11.678363426789717|     null|          null|          null|     null|   null|   null| null|  null|         null|      null| 90.36019089570658|2.1048085675863932|0.41798724903398016|\n",
            "|    min|           1000001|                18|      20s|administration|      divorced|  college|     no|     no|   no|female|$100k - $250k|      gold|                 0|                 0|                  0|\n",
            "|    max|           1045211|                95|      U20|       unknown|        single|  unknown|    yes|    yes|  yes|  male|   Under $10k|    silver|               366|                 9|                  1|\n",
            "+-------+------------------+------------------+---------+--------------+--------------+---------+-------+-------+-----+------+-------------+----------+------------------+------------------+-------------------+\n",
            "\n"
          ]
        }
      ],
      "source": [
        "df.describe().show()"
      ]
    },
    {
      "cell_type": "code",
      "execution_count": null,
      "metadata": {
        "colab": {
          "base_uri": "https://localhost:8080/"
        },
        "id": "aBiRNvoPYUYj",
        "outputId": "4b5a442a-2018-4dca-fefb-62842f2f5992"
      },
      "outputs": [
        {
          "name": "stdout",
          "output_type": "stream",
          "text": [
            "root\n",
            " |-- uid: integer (nullable = true)\n",
            " |-- age: integer (nullable = true)\n",
            " |-- age_group: string (nullable = true)\n",
            " |-- profession: string (nullable = true)\n",
            " |-- marital_status: string (nullable = true)\n",
            " |-- education: string (nullable = true)\n",
            " |-- default: string (nullable = true)\n",
            " |-- housing: string (nullable = true)\n",
            " |-- loan: string (nullable = true)\n",
            " |-- gender: string (nullable = true)\n",
            " |-- balance: string (nullable = true)\n",
            " |-- membership: string (nullable = true)\n",
            " |-- charges: integer (nullable = true)\n",
            " |-- customer_contacts: integer (nullable = true)\n",
            " |-- attrition: integer (nullable = true)\n",
            "\n"
          ]
        }
      ],
      "source": [
        "df.printSchema() # what did it decide?\n"
      ]
    },
    {
      "cell_type": "code",
      "execution_count": null,
      "metadata": {
        "colab": {
          "base_uri": "https://localhost:8080/"
        },
        "id": "dNKdwt60Ycry",
        "outputId": "a9773bab-fd7a-413c-ad10-6fcff70fccee"
      },
      "outputs": [
        {
          "name": "stdout",
          "output_type": "stream",
          "text": [
            "\r\n",
            "Total Records: 45211\r\n",
            "\r\n",
            "\n",
            "('uid', 'int')\n",
            "('age', 'int')\n",
            "('age_group', 'string')\n",
            "('profession', 'string')\n",
            "('marital_status', 'string')\n",
            "('education', 'string')\n",
            "('default', 'string')\n",
            "('housing', 'string')\n",
            "('loan', 'string')\n",
            "('gender', 'string')\n",
            "('balance', 'string')\n",
            "('membership', 'string')\n",
            "('charges', 'int')\n",
            "('customer_contacts', 'int')\n",
            "('attrition', 'int')\n"
          ]
        }
      ],
      "source": [
        "print('\\r\\nTotal Records: ' + str(df.count()) + '\\r\\n\\r\\n')\n",
        "for i in df.dtypes: print(i)"
      ]
    },
    {
      "cell_type": "code",
      "execution_count": null,
      "metadata": {
        "colab": {
          "base_uri": "https://localhost:8080/"
        },
        "id": "kR7GRjBYYjKK",
        "outputId": "ec25782b-931d-43b5-e3df-c0499f226d2f"
      },
      "outputs": [
        {
          "name": "stdout",
          "output_type": "stream",
          "text": [
            "+------+--------------+------------------+\n",
            "|gender|    profession|      avg(charges)|\n",
            "+------+--------------+------------------+\n",
            "|  male|       retired| 90.06541129831517|\n",
            "|female|       unknown|  95.6412213740458|\n",
            "|  male|    consulting|105.07890222984562|\n",
            "|female|       student|106.88148148148149|\n",
            "|female|administration|196.62704545454545|\n",
            "|  male|       student| 104.4538043478261|\n",
            "|  male| self_employed| 99.64225352112676|\n",
            "|female|    technician|  97.8839156800462|\n",
            "|  male|  entrepreneur| 96.58604651162791|\n",
            "|female|    consulting|110.82528486163864|\n",
            "|female|    management| 99.05277973258269|\n",
            "|female|  entrepreneur|104.86695906432749|\n",
            "|  male|administration|100.57098214285715|\n",
            "|female|     executive| 92.15077989601386|\n",
            "|  male|       unknown|            91.625|\n",
            "|female|       retired| 94.21102661596959|\n",
            "|  male| manufacturing|108.40989570700945|\n",
            "|  male|    unemployed| 94.95126353790614|\n",
            "|female| manufacturing|115.82603578154426|\n",
            "|female|    unemployed|251.80401878914404|\n",
            "+------+--------------+------------------+\n",
            "only showing top 20 rows\n",
            "\n"
          ]
        }
      ],
      "source": [
        "df.groupBy(\"gender\", \"profession\").avg(\"charges\").show(20)\n"
      ]
    },
    {
      "cell_type": "code",
      "execution_count": null,
      "metadata": {
        "colab": {
          "base_uri": "https://localhost:8080/"
        },
        "id": "eLw_5PpsZQYF",
        "outputId": "830e106b-0e0c-4e8b-bd60-279d8356ec4c"
      },
      "outputs": [
        {
          "name": "stdout",
          "output_type": "stream",
          "text": [
            "+--------------+------------------+\n",
            "|marital_status|          avg(age)|\n",
            "+--------------+------------------+\n",
            "|      divorced| 38.91083980762116|\n",
            "|       married|42.275862068965516|\n",
            "|        single| 37.23961490461758|\n",
            "+--------------+------------------+\n",
            "\n"
          ]
        }
      ],
      "source": [
        "df.where(col(\"education\").contains(\"high school\")).groupBy(\"marital_status\").avg(\"age\").show()\n"
      ]
    },
    {
      "cell_type": "markdown",
      "metadata": {
        "id": "mvdCBX2D4WNJ"
      },
      "source": [
        "## **Feature Engineering**\n",
        "Create numeric variables for the qualitative variables. "
      ]
    },
    {
      "cell_type": "code",
      "execution_count": null,
      "metadata": {
        "colab": {
          "base_uri": "https://localhost:8080/"
        },
        "id": "HqAxflMW5IpU",
        "outputId": "d8587471-5cb8-4f8a-8918-83b17e64a9bb"
      },
      "outputs": [
        {
          "name": "stdout",
          "output_type": "stream",
          "text": [
            "+-------+---+---------+--------------+--------------+-----------+-------+-------+----+------+-------------+----------+-------+-----------------+---------+-------------+--------------+------------------+-------------+-----------+-----------+--------+----------+-----------+--------------+\n",
            "|    uid|age|age_group|    profession|marital_status|  education|default|housing|loan|gender|      balance|membership|charges|customer_contacts|attrition|age_group_idx|profession_idx|marital_status_idx|education_idx|default_idx|housing_idx|loan_idx|gender_idx|balance_idx|membership_idx|\n",
            "+-------+---+---------+--------------+--------------+-----------+-------+-------+----+------+-------------+----------+-------+-----------------+---------+-------------+--------------+------------------+-------------+-----------+-----------+--------+----------+-----------+--------------+\n",
            "|1000001| 69|      60s|       retired|       married|high school|     no|     no|  no|female| $50k - $100k|      gold|     74|                5|        0|          4.0|           6.0|               0.0|          1.0|        0.0|        1.0|     0.0|       0.0|        3.0|           2.0|\n",
            "|1000002| 46|      40s|    management|       married|high school|    yes|     no|  no|  male|  $10k - $50k|    silver|    149|                1|        0|          2.0|           0.0|               0.0|          1.0|        1.0|        1.0|     0.0|       1.0|        1.0|           1.0|\n",
            "|1000003| 45|      40s|    management|       married|high school|     no|     no|  no|female|$100k - $250k|  platinum|     58|                5|        1|          2.0|           0.0|               0.0|          1.0|        0.0|        1.0|     0.0|       0.0|        2.0|           0.0|\n",
            "|1000004| 54|      50s|administration|      divorced|   graduate|     no|    yes|  no|female|  $10k - $50k|    silver|    317|                4|        1|          1.0|           3.0|               2.0|          0.0|        0.0|        0.0|     0.0|       0.0|        1.0|           1.0|\n",
            "|1000005| 36|      30s|    management|        single|high school|     no|    yes|  no|  male| $50k - $100k|      gold|    139|                8|        0|          0.0|           0.0|               1.0|          1.0|        0.0|        0.0|     0.0|       1.0|        3.0|           2.0|\n",
            "|1000006| 25|      20s|       student|       married|   graduate|     no|     no|  no|  male|   Over $250k|  platinum|     21|                8|        0|          3.0|          10.0|               0.0|          0.0|        0.0|        1.0|     0.0|       1.0|        0.0|           0.0|\n",
            "|1000007| 54|      50s|    management|        single|high school|     no|    yes| yes|female|   Over $250k|  platinum|    128|                0|        0|          1.0|           0.0|               1.0|          1.0|        0.0|        0.0|     1.0|       0.0|        0.0|           0.0|\n",
            "|1000008| 49|      40s| manufacturing|        single|   graduate|     no|    yes| yes|  male| $50k - $100k|      gold|     40|                0|        0|          2.0|           1.0|               1.0|          0.0|        0.0|        0.0|     1.0|       1.0|        3.0|           2.0|\n",
            "|1000009| 30|      30s|  entrepreneur|       married|   graduate|     no|     no| yes|  male|$100k - $250k|  platinum|    126|                0|        0|          0.0|           8.0|               0.0|          0.0|        0.0|        1.0|     1.0|       1.0|        2.0|           0.0|\n",
            "|1000010| 43|      40s|    technician|       married|high school|     no|     no|  no|female|$100k - $250k|  platinum|    102|                1|        0|          2.0|           2.0|               0.0|          1.0|        0.0|        1.0|     0.0|       0.0|        2.0|           0.0|\n",
            "|1000011| 32|      30s|    technician|        single|   graduate|     no|     no|  no|  male|  $10k - $50k|    silver|    142|                1|        0|          0.0|           2.0|               1.0|          0.0|        0.0|        1.0|     0.0|       1.0|        1.0|           1.0|\n",
            "|1000012| 33|      30s|administration|        single|high school|     no|    yes|  no|female|   Over $250k|  platinum|    140|                0|        0|          0.0|           3.0|               1.0|          1.0|        0.0|        0.0|     0.0|       0.0|        0.0|           0.0|\n",
            "|1000013| 53|      50s|    management|      divorced|high school|     no|    yes|  no|  male| $50k - $100k|      gold|    258|                4|        1|          1.0|           0.0|               2.0|          1.0|        0.0|        0.0|     0.0|       1.0|        3.0|           2.0|\n",
            "|1000014| 24|      20s|    unemployed|      divorced|high school|     no|    yes|  no|female|  $10k - $50k|    silver|    245|                3|        1|          3.0|           4.0|               2.0|          1.0|        0.0|        0.0|     0.0|       0.0|        1.0|           1.0|\n",
            "|1000015| 46|      40s| manufacturing|       married|   graduate|     no|    yes|  no|  male|   Over $250k|  platinum|     87|                0|        0|          2.0|           1.0|               0.0|          0.0|        0.0|        0.0|     0.0|       1.0|        0.0|           0.0|\n",
            "|1000016| 32|      30s|    technician|        single|high school|     no|     no|  no|  male|$100k - $250k|  platinum|    130|                2|        0|          0.0|           2.0|               1.0|          1.0|        0.0|        1.0|     0.0|       1.0|        2.0|           0.0|\n",
            "|1000017| 53|      50s| manufacturing|      divorced|    college|     no|    yes|  no|female| $50k - $100k|      gold|    262|                4|        1|          1.0|           1.0|               2.0|          2.0|        0.0|        0.0|     0.0|       0.0|        3.0|           2.0|\n",
            "|1000018| 27|      20s|    technician|       married|   graduate|     no|    yes|  no|  male|   Over $250k|  platinum|     33|                1|        0|          3.0|           2.0|               0.0|          0.0|        0.0|        0.0|     0.0|       1.0|        0.0|           0.0|\n",
            "|1000019| 36|      30s| manufacturing|        single|    college|     no|    yes|  no|  male|  $10k - $50k|    silver|     58|                0|        0|          0.0|           1.0|               1.0|          2.0|        0.0|        0.0|     0.0|       1.0|        1.0|           1.0|\n",
            "|1000020| 47|      40s|administration|       married|   graduate|     no|     no|  no|  male|   Over $250k|  platinum|     96|                1|        0|          2.0|           3.0|               0.0|          0.0|        0.0|        1.0|     0.0|       1.0|        0.0|           0.0|\n",
            "+-------+---+---------+--------------+--------------+-----------+-------+-------+----+------+-------------+----------+-------+-----------------+---------+-------------+--------------+------------------+-------------+-----------+-----------+--------+----------+-----------+--------------+\n",
            "only showing top 20 rows\n",
            "\n"
          ]
        }
      ],
      "source": [
        "inputs = ('age_group', 'profession','marital_status','education','default','housing', 'loan', 'gender', 'balance', 'membership')\n",
        "# can't do multiple at once!\n",
        "# https://stackoverflow.com/questions/36942233/apply-stringindexer-to-several-columns-in-a-pyspark-dataframe\n",
        "indexers = [StringIndexer(inputCol=column, outputCol=column+\"_idx\", stringOrderType=\"frequencyDesc\").fit(df) for column in inputs ]\n",
        "pipeline = Pipeline(stages=indexers)\n",
        "indexed = pipeline.fit(df).transform(df)\n",
        "indexed.show()"
      ]
    },
    {
      "cell_type": "code",
      "execution_count": null,
      "metadata": {
        "colab": {
          "base_uri": "https://localhost:8080/"
        },
        "id": "3TIyCIa97jDa",
        "outputId": "4557c6c4-0b48-495b-a82d-059787317578"
      },
      "outputs": [
        {
          "name": "stdout",
          "output_type": "stream",
          "text": [
            "+---------+-----+\n",
            "|attrition|count|\n",
            "+---------+-----+\n",
            "|        1|10200|\n",
            "|        0|35011|\n",
            "+---------+-----+\n",
            "\n"
          ]
        }
      ],
      "source": [
        "# Count the target variable in data\n",
        "df.groupBy(\"attrition\").count().show()"
      ]
    },
    {
      "cell_type": "markdown",
      "metadata": {
        "id": "etwknN6jAKvF"
      },
      "source": [
        "### Delete the categorical columns in favor of using the indexed columns \n",
        "create reduced dataframe"
      ]
    },
    {
      "cell_type": "code",
      "execution_count": null,
      "metadata": {
        "id": "uoEhyBTTAJ5N"
      },
      "outputs": [],
      "source": [
        "df_reduced = indexed.drop(*inputs) # using list of categoricals above\n",
        "df_reduced = df_reduced.drop(\"uid\") # you could leave this and just not include in features. "
      ]
    },
    {
      "cell_type": "code",
      "execution_count": null,
      "metadata": {
        "colab": {
          "base_uri": "https://localhost:8080/"
        },
        "id": "T1qxmnTPBWG8",
        "outputId": "6a075383-376e-44db-a3e9-b06bf4873930"
      },
      "outputs": [
        {
          "name": "stdout",
          "output_type": "stream",
          "text": [
            "+---+-------+-----------------+---------+-------------+--------------+------------------+-------------+-----------+-----------+--------+----------+-----------+--------------+\n",
            "|age|charges|customer_contacts|attrition|age_group_idx|profession_idx|marital_status_idx|education_idx|default_idx|housing_idx|loan_idx|gender_idx|balance_idx|membership_idx|\n",
            "+---+-------+-----------------+---------+-------------+--------------+------------------+-------------+-----------+-----------+--------+----------+-----------+--------------+\n",
            "| 69|     74|                5|        0|          4.0|           6.0|               0.0|          1.0|        0.0|        1.0|     0.0|       0.0|        3.0|           2.0|\n",
            "| 46|    149|                1|        0|          2.0|           0.0|               0.0|          1.0|        1.0|        1.0|     0.0|       1.0|        1.0|           1.0|\n",
            "| 45|     58|                5|        1|          2.0|           0.0|               0.0|          1.0|        0.0|        1.0|     0.0|       0.0|        2.0|           0.0|\n",
            "| 54|    317|                4|        1|          1.0|           3.0|               2.0|          0.0|        0.0|        0.0|     0.0|       0.0|        1.0|           1.0|\n",
            "| 36|    139|                8|        0|          0.0|           0.0|               1.0|          1.0|        0.0|        0.0|     0.0|       1.0|        3.0|           2.0|\n",
            "| 25|     21|                8|        0|          3.0|          10.0|               0.0|          0.0|        0.0|        1.0|     0.0|       1.0|        0.0|           0.0|\n",
            "| 54|    128|                0|        0|          1.0|           0.0|               1.0|          1.0|        0.0|        0.0|     1.0|       0.0|        0.0|           0.0|\n",
            "| 49|     40|                0|        0|          2.0|           1.0|               1.0|          0.0|        0.0|        0.0|     1.0|       1.0|        3.0|           2.0|\n",
            "| 30|    126|                0|        0|          0.0|           8.0|               0.0|          0.0|        0.0|        1.0|     1.0|       1.0|        2.0|           0.0|\n",
            "| 43|    102|                1|        0|          2.0|           2.0|               0.0|          1.0|        0.0|        1.0|     0.0|       0.0|        2.0|           0.0|\n",
            "+---+-------+-----------------+---------+-------------+--------------+------------------+-------------+-----------+-----------+--------+----------+-----------+--------------+\n",
            "only showing top 10 rows\n",
            "\n",
            "('age', 'int')\n",
            "('charges', 'int')\n",
            "('customer_contacts', 'int')\n",
            "('attrition', 'int')\n",
            "('age_group_idx', 'double')\n",
            "('profession_idx', 'double')\n",
            "('marital_status_idx', 'double')\n",
            "('education_idx', 'double')\n",
            "('default_idx', 'double')\n",
            "('housing_idx', 'double')\n",
            "('loan_idx', 'double')\n",
            "('gender_idx', 'double')\n",
            "('balance_idx', 'double')\n",
            "('membership_idx', 'double')\n"
          ]
        }
      ],
      "source": [
        "df_reduced.show(10)\n",
        "for i in df_reduced.dtypes: print(i)"
      ]
    },
    {
      "cell_type": "markdown",
      "metadata": {
        "id": "a4z1IWjtDapn"
      },
      "source": [
        "### Turn data frame columns into features vector and label\n"
      ]
    },
    {
      "cell_type": "code",
      "execution_count": null,
      "metadata": {
        "id": "ijwaS0hlDgqP"
      },
      "outputs": [],
      "source": [
        "df_reduced.withColumnRenamed(\"attrition\", \"label\") # not an inplace transformation\n",
        "features_cols = [c for c in df_reduced.columns if c not in {\"attrition\"}]\n",
        "assembler = VectorAssembler(inputCols = features_cols, outputCol = \"features\")\n",
        "assembled = assembler.transform(df_reduced) #  is using sparse/dense interchangably\n"
      ]
    },
    {
      "cell_type": "code",
      "execution_count": null,
      "metadata": {
        "colab": {
          "base_uri": "https://localhost:8080/"
        },
        "id": "R1BiIEMAGPWC",
        "outputId": "c1c05714-ae69-43b5-8f55-0880a8dad30b"
      },
      "outputs": [
        {
          "name": "stdout",
          "output_type": "stream",
          "text": [
            "+---+-------+-----------------+---------+-------------+--------------+------------------+-------------+-----------+-----------+--------+----------+-----------+--------------+--------------------+\n",
            "|age|charges|customer_contacts|attrition|age_group_idx|profession_idx|marital_status_idx|education_idx|default_idx|housing_idx|loan_idx|gender_idx|balance_idx|membership_idx|            features|\n",
            "+---+-------+-----------------+---------+-------------+--------------+------------------+-------------+-----------+-----------+--------+----------+-----------+--------------+--------------------+\n",
            "| 69|     74|                5|        0|          4.0|           6.0|               0.0|          1.0|        0.0|        1.0|     0.0|       0.0|        3.0|           2.0|[69.0,74.0,5.0,4....|\n",
            "| 46|    149|                1|        0|          2.0|           0.0|               0.0|          1.0|        1.0|        1.0|     0.0|       1.0|        1.0|           1.0|[46.0,149.0,1.0,2...|\n",
            "| 45|     58|                5|        1|          2.0|           0.0|               0.0|          1.0|        0.0|        1.0|     0.0|       0.0|        2.0|           0.0|(13,[0,1,2,3,6,8,...|\n",
            "| 54|    317|                4|        1|          1.0|           3.0|               2.0|          0.0|        0.0|        0.0|     0.0|       0.0|        1.0|           1.0|[54.0,317.0,4.0,1...|\n",
            "| 36|    139|                8|        0|          0.0|           0.0|               1.0|          1.0|        0.0|        0.0|     0.0|       1.0|        3.0|           2.0|[36.0,139.0,8.0,0...|\n",
            "+---+-------+-----------------+---------+-------------+--------------+------------------+-------------+-----------+-----------+--------+----------+-----------+--------------+--------------------+\n",
            "only showing top 5 rows\n",
            "\n"
          ]
        },
        {
          "data": {
            "text/plain": [
              "['age',\n",
              " 'charges',\n",
              " 'customer_contacts',\n",
              " 'age_group_idx',\n",
              " 'profession_idx',\n",
              " 'marital_status_idx',\n",
              " 'education_idx',\n",
              " 'default_idx',\n",
              " 'housing_idx',\n",
              " 'loan_idx',\n",
              " 'gender_idx',\n",
              " 'balance_idx',\n",
              " 'membership_idx']"
            ]
          },
          "execution_count": 63,
          "metadata": {},
          "output_type": "execute_result"
        }
      ],
      "source": [
        "assembled.show(5)\n",
        "features_cols\n"
      ]
    },
    {
      "cell_type": "code",
      "execution_count": null,
      "metadata": {
        "colab": {
          "base_uri": "https://localhost:8080/"
        },
        "id": "ZqpBSs03I8aL",
        "outputId": "404b539c-34f1-40d2-cf53-fdaf6cdbb1e0"
      },
      "outputs": [
        {
          "name": "stdout",
          "output_type": "stream",
          "text": [
            "+--------------------------------------------------------+\n",
            "|features                                                |\n",
            "+--------------------------------------------------------+\n",
            "|[69.0,74.0,5.0,4.0,6.0,0.0,1.0,0.0,1.0,0.0,0.0,3.0,2.0] |\n",
            "|[46.0,149.0,1.0,2.0,0.0,0.0,1.0,1.0,1.0,0.0,1.0,1.0,1.0]|\n",
            "|(13,[0,1,2,3,6,8,11],[45.0,58.0,5.0,2.0,1.0,1.0,2.0])   |\n",
            "|[54.0,317.0,4.0,1.0,3.0,2.0,0.0,0.0,0.0,0.0,0.0,1.0,1.0]|\n",
            "|[36.0,139.0,8.0,0.0,0.0,1.0,1.0,0.0,0.0,0.0,1.0,3.0,2.0]|\n",
            "+--------------------------------------------------------+\n",
            "only showing top 5 rows\n",
            "\n"
          ]
        }
      ],
      "source": [
        "assembled.select('features').show(5,truncate = False) # ok. is using sparse notation sometimes and dense others. 13 is total number columns. "
      ]
    },
    {
      "cell_type": "markdown",
      "metadata": {
        "id": "CGvccv8jabR1"
      },
      "source": [
        "## **Split the Spark Dataframe into Train and Test**\n",
        "I used a [randomsplit](https://spark.apache.org/docs/latest/api/python/pyspark.sql.html#pyspark.sql.DataFrame.randomSplit) here. Later I want to play with a other options. \n",
        "Either two outputs or it outputs a list. "
      ]
    },
    {
      "cell_type": "code",
      "execution_count": null,
      "metadata": {
        "id": "ncA_oFEJ8Jqt"
      },
      "outputs": [],
      "source": [
        "# training, test = df.randomSplit([0.75, 0.25], seed = 19) # two outputs\n",
        "splits = assembled.randomSplit([0.75, 0.25], seed = 19) # list output\n"
      ]
    },
    {
      "cell_type": "code",
      "execution_count": null,
      "metadata": {
        "colab": {
          "base_uri": "https://localhost:8080/"
        },
        "id": "sqS9IJfm_EM3",
        "outputId": "727f731a-b55b-494a-eaef-3b5fbd7937b6"
      },
      "outputs": [
        {
          "data": {
            "text/plain": [
              "33841"
            ]
          },
          "execution_count": 32,
          "metadata": {},
          "output_type": "execute_result"
        }
      ],
      "source": [
        "# training.count()\n",
        "splits[0].count()"
      ]
    },
    {
      "cell_type": "markdown",
      "metadata": {
        "id": "lwmmMYzP5MpE"
      },
      "source": [
        "## **Fit/Train ML Model**"
      ]
    },
    {
      "cell_type": "code",
      "execution_count": null,
      "metadata": {
        "id": "Q0sXhWwl_Chl"
      },
      "outputs": [],
      "source": [
        "lr = LogisticRegression(regParam=0.3, elasticNetParam=0.8)\n",
        "lr.setMaxIter(10) # alternate way to set parameters\n",
        "model = lr.fit(splits[0].withColumnRenamed(\"attrition\", \"label\")) #uses names features and label by default. \n"
      ]
    },
    {
      "cell_type": "markdown",
      "metadata": {
        "id": "0-TVO6s55h05"
      },
      "source": [
        "## **Make Predictions**\n",
        "Use your model to make predications against the Test (holdout) Dataframe"
      ]
    },
    {
      "cell_type": "code",
      "execution_count": null,
      "metadata": {
        "id": "M-FNikRHMK62"
      },
      "outputs": [],
      "source": [
        "predictions = model.transform(splits[1]) # (test)"
      ]
    },
    {
      "cell_type": "code",
      "execution_count": null,
      "metadata": {
        "colab": {
          "base_uri": "https://localhost:8080/"
        },
        "id": "RVuqPtEI5hnX",
        "outputId": "a2bcb7b8-0a6d-46c8-efff-fa81629b4f2c"
      },
      "outputs": [
        {
          "name": "stdout",
          "output_type": "stream",
          "text": [
            "+---+-------+-----------------+---------+-------------+--------------+------------------+-------------+-----------+-----------+--------+----------+-----------+--------------+--------------------+--------------------+--------------------+----------+\n",
            "|age|charges|customer_contacts|attrition|age_group_idx|profession_idx|marital_status_idx|education_idx|default_idx|housing_idx|loan_idx|gender_idx|balance_idx|membership_idx|            features|       rawPrediction|         probability|prediction|\n",
            "+---+-------+-----------------+---------+-------------+--------------+------------------+-------------+-----------+-----------+--------+----------+-----------+--------------+--------------------+--------------------+--------------------+----------+\n",
            "| 18|     85|                7|        0|          7.0|          10.0|               1.0|          3.0|        0.0|        1.0|     0.0|       0.0|        2.0|           0.0|[18.0,85.0,7.0,7....|[1.32707387410786...|[0.79035620733538...|       0.0|\n",
            "| 19|      0|                7|        0|          7.0|          10.0|               1.0|          3.0|        0.0|        1.0|     0.0|       1.0|        2.0|           0.0|[19.0,0.0,7.0,7.0...|[1.51943108561624...|[0.82045468978043...|       0.0|\n",
            "| 19|     11|                6|        0|          7.0|          10.0|               1.0|          2.0|        0.0|        1.0|     0.0|       0.0|        1.0|           1.0|[19.0,11.0,6.0,7....|[1.49453779942104...|[0.81675839476569...|       0.0|\n",
            "| 19|     95|                5|        0|          7.0|          10.0|               1.0|          3.0|        0.0|        1.0|     0.0|       0.0|        3.0|           2.0|[19.0,95.0,5.0,7....|[1.30444361393040...|[0.78658188608981...|       0.0|\n",
            "| 19|    107|                5|        0|          7.0|          10.0|               1.0|          0.0|        0.0|        1.0|     0.0|       0.0|        2.0|           0.0|[19.0,107.0,5.0,7...|[1.27728730171745...|[0.78198766137058...|       0.0|\n",
            "| 19|    118|                8|        0|          7.0|          10.0|               1.0|          0.0|        0.0|        1.0|     0.0|       0.0|        3.0|           2.0|[19.0,118.0,8.0,7...|[1.25239401552225...|[0.77771400159260...|       0.0|\n",
            "| 19|    124|                8|        0|          7.0|          10.0|               1.0|          0.0|        0.0|        1.0|     0.0|       0.0|        0.0|           0.0|(13,[0,1,2,3,4,5,...|[1.23881585941578...|[0.77535783020597...|       0.0|\n",
            "| 19|    128|                6|        0|          7.0|          10.0|               1.0|          0.0|        0.0|        1.0|     0.0|       1.0|        1.0|           1.0|[19.0,128.0,6.0,7...|[1.22976375534480...|[0.77377722325468...|       0.0|\n",
            "| 19|    142|                5|        0|          7.0|          10.0|               1.0|          2.0|        0.0|        1.0|     0.0|       0.0|        1.0|           1.0|[19.0,142.0,5.0,7...|[1.19808139109636...|[0.76818329781464...|       0.0|\n",
            "| 19|    155|                8|        1|          7.0|          10.0|               1.0|          0.0|        0.0|        1.0|     0.0|       0.0|        2.0|           0.0|[19.0,155.0,8.0,7...|[1.16866205286566...|[0.76290309035346...|       0.0|\n",
            "| 19|    161|                5|        0|          7.0|          10.0|               1.0|          0.0|        0.0|        1.0|     0.0|       0.0|        3.0|           2.0|[19.0,161.0,5.0,7...|[1.15508389675919...|[0.76043828595463...|       0.0|\n",
            "| 20|      4|                8|        0|          3.0|          10.0|               1.0|          3.0|        0.0|        1.0|     0.0|       1.0|        2.0|           0.0|[20.0,4.0,8.0,3.0...|[1.51037898154526...|[0.81911736510127...|       0.0|\n",
            "| 20|      5|                5|        0|          3.0|          10.0|               1.0|          0.0|        0.0|        1.0|     0.0|       0.0|        2.0|           0.0|[20.0,5.0,5.0,3.0...|[1.50811595552751...|[0.81878182369654...|       0.0|\n",
            "| 20|     44|                0|        0|          3.0|          10.0|               1.0|          1.0|        0.0|        0.0|     0.0|       0.0|        2.0|           0.0|(13,[0,1,3,4,5,6,...|[1.41985794083543...|[0.80531614504716...|       0.0|\n",
            "| 20|     58|                0|        0|          3.0|           5.0|               1.0|          1.0|        0.0|        0.0|     0.0|       0.0|        0.0|           0.0|(13,[0,1,3,4,5,6]...|[1.38817557658699...|[0.80030082461124...|       0.0|\n",
            "| 20|     94|                0|        0|          3.0|          10.0|               0.0|          1.0|        0.0|        0.0|     0.0|       0.0|        1.0|           1.0|(13,[0,1,3,4,6,11...|[1.30670663994815...|[0.78696153574802...|       0.0|\n",
            "| 20|     94|                7|        0|          3.0|          10.0|               1.0|          3.0|        0.0|        1.0|     0.0|       1.0|        2.0|           0.0|[20.0,94.0,7.0,3....|[1.30670663994815...|[0.78696153574802...|       0.0|\n",
            "| 20|     95|                8|        0|          3.0|          10.0|               1.0|          2.0|        0.0|        1.0|     0.0|       1.0|        2.0|           0.0|[20.0,95.0,8.0,3....|[1.30444361393040...|[0.78658188608981...|       0.0|\n",
            "| 20|    157|                5|        0|          3.0|          10.0|               1.0|          0.0|        0.0|        1.0|     0.0|       0.0|        2.0|           0.0|[20.0,157.0,5.0,3...|[1.16413600083017...|[0.76208343524812...|       0.0|\n",
            "| 20|    171|                5|        0|          3.0|          10.0|               0.0|          0.0|        0.0|        1.0|     0.0|       0.0|        0.0|           0.0|(13,[0,1,2,3,4,8]...|[1.13245363658173...|[0.75629142474093...|       0.0|\n",
            "+---+-------+-----------------+---------+-------------+--------------+------------------+-------------+-----------+-----------+--------+----------+-----------+--------------+--------------------+--------------------+--------------------+----------+\n",
            "only showing top 20 rows\n",
            "\n"
          ]
        }
      ],
      "source": [
        "predictions.show()"
      ]
    },
    {
      "cell_type": "markdown",
      "metadata": {
        "id": "lHkwh8mM5Si7"
      },
      "source": [
        "## **Evaluate Model against Test Dataframe**\n",
        "Display model fit statistics.\n"
      ]
    },
    {
      "cell_type": "code",
      "execution_count": null,
      "metadata": {
        "colab": {
          "base_uri": "https://localhost:8080/"
        },
        "id": "ORJ8UOuH5wPX",
        "outputId": "e347b4ec-9637-4e64-98bf-55bd721e1231"
      },
      "outputs": [
        {
          "name": "stdout",
          "output_type": "stream",
          "text": [
            "Area Under ROC: 0.8873319171210698\n"
          ]
        }
      ],
      "source": [
        "bi_evaluator = BinaryClassificationEvaluator(labelCol=\"attrition\", metricName='areaUnderROC')  # areaUnderROC | areaUnderPR\n",
        "areaunderroc = bi_evaluator.evaluate(predictions)\n",
        "print(\"Area Under ROC: \" + str(areaunderroc))"
      ]
    },
    {
      "cell_type": "code",
      "execution_count": null,
      "metadata": {
        "colab": {
          "base_uri": "https://localhost:8080/"
        },
        "id": "gM0GJ6I-M_PU",
        "outputId": "ab011a3d-68dd-4805-ade5-6f73dad90b22"
      },
      "outputs": [
        {
          "name": "stdout",
          "output_type": "stream",
          "text": [
            "+---------+----------+-----+\n",
            "|attrition|prediction|count|\n",
            "+---------+----------+-----+\n",
            "|        1|       0.0| 2533|\n",
            "|        0|       0.0| 8837|\n",
            "+---------+----------+-----+\n",
            "\n",
            "Accuracy:       0.7772207563764292\n"
          ]
        }
      ],
      "source": [
        "# Print True Positive vs. False Positives\n",
        "predictions.groupBy('attrition','prediction').count().show()\n",
        "# Multiclass Evaluator\n",
        "mc_evaluator = MulticlassClassificationEvaluator(labelCol=\"attrition\", predictionCol=\"prediction\", metricName=\"accuracy\") #f1|weightedPrecision|weightedRecall|accuracy\n",
        "accuracy     = mc_evaluator.evaluate(predictions)\n",
        "print(\"Accuracy:       \" + str(accuracy))\n"
      ]
    },
    {
      "cell_type": "markdown",
      "metadata": {
        "id": "8_a40JoZ7W7V"
      },
      "source": [
        "## Save the Model Object \n",
        "\n",
        "Write spark code that saves the model object. \n",
        "\n",
        "\n"
      ]
    },
    {
      "cell_type": "code",
      "execution_count": null,
      "metadata": {
        "colab": {
          "base_uri": "https://localhost:8080/"
        },
        "id": "ZyyZqKkj7cIf",
        "outputId": "6405260e-30de-4030-963c-9774789a9f6f"
      },
      "outputs": [
        {
          "data": {
            "text/plain": [
              "['.config',\n",
              " 'drive',\n",
              " 'wd',\n",
              " 'model',\n",
              " 'model_named',\n",
              " 'spark-3.2.3-bin-hadoop3.2.tgz',\n",
              " 'banking_attrition.csv',\n",
              " 'spark-3.2.3-bin-hadoop3.2',\n",
              " 'sample_data']"
            ]
          },
          "execution_count": 125,
          "metadata": {},
          "output_type": "execute_result"
        }
      ],
      "source": [
        "spark.sparkContext.getConf().getAll()\n",
        "os.getcwd()\n",
        "os.chdir('/content') # this is the default in colab\n",
        "wd = os.getcwd()\n",
        "model.write().overwrite().save(wd + \"/model_named\") # this is a path as place. not a file name. \n",
        "os.listdir('.')\n",
        "# not clear this is a rest or gRPC endpoint - the model is now in folders\n",
        "\n",
        "\n"
      ]
    },
    {
      "cell_type": "code",
      "execution_count": null,
      "metadata": {
        "colab": {
          "base_uri": "https://localhost:8080/"
        },
        "id": "bjucvCfRVl_q",
        "outputId": "282395b2-df25-462a-d3e0-4dce84e4b0c6"
      },
      "outputs": [
        {
          "data": {
            "text/plain": [
              "['data', 'metadata']"
            ]
          },
          "execution_count": 126,
          "metadata": {},
          "output_type": "execute_result"
        }
      ],
      "source": [
        "os.chdir('model_named')\n",
        "os.listdir('.')"
      ]
    },
    {
      "cell_type": "markdown",
      "metadata": {
        "id": "xgS0xq3FZu4p"
      },
      "source": [
        "## Download the model to local google drive. \n",
        "Have to give permissions once you mount it. "
      ]
    },
    {
      "cell_type": "code",
      "execution_count": null,
      "metadata": {
        "colab": {
          "base_uri": "https://localhost:8080/"
        },
        "id": "UgWRHZ4dUNOv",
        "outputId": "52d36cfd-83f6-4555-d148-974a59996b54"
      },
      "outputs": [
        {
          "name": "stdout",
          "output_type": "stream",
          "text": [
            "Mounted at /content/drive\n"
          ]
        }
      ],
      "source": [
        "from google.colab import drive\n",
        "drive.mount('/content/drive')"
      ]
    },
    {
      "cell_type": "markdown",
      "metadata": {
        "id": "n1ED8mywZ3bc"
      },
      "source": [
        "zip up the files in the folders since is not a single file. is multiple folders"
      ]
    },
    {
      "cell_type": "code",
      "execution_count": null,
      "metadata": {
        "id": "WAUA0tXxWe1e"
      },
      "outputs": [],
      "source": [
        "import zipfile\n",
        "folder_path = '/content/model_named'\n",
        "zip_path = '/content/model.zip'\n",
        "\n",
        "with zipfile.ZipFile(zip_path, 'w', zipfile.ZIP_DEFLATED) as zipf:\n",
        "    for root, dirs, files in os.walk(folder_path):\n",
        "        for file in files:\n",
        "            zipf.write(os.path.join(root, file))\n",
        "            "
      ]
    },
    {
      "cell_type": "code",
      "execution_count": null,
      "metadata": {
        "colab": {
          "base_uri": "https://localhost:8080/"
        },
        "id": "qweZIys5XdZW",
        "outputId": "5efd9fa7-3c18-46f7-e3e4-931a8f11a35a"
      },
      "outputs": [
        {
          "data": {
            "text/plain": [
              "['.config',\n",
              " 'drive',\n",
              " 'wd',\n",
              " 'model.zip',\n",
              " 'model',\n",
              " 'model_named',\n",
              " 'spark-3.2.3-bin-hadoop3.2.tgz',\n",
              " 'banking_attrition.csv',\n",
              " 'spark-3.2.3-bin-hadoop3.2',\n",
              " 'sample_data']"
            ]
          },
          "execution_count": 135,
          "metadata": {},
          "output_type": "execute_result"
        }
      ],
      "source": [
        "os.listdir('..')"
      ]
    },
    {
      "cell_type": "markdown",
      "source": [
        "## Transfer the file to my Google Drive. "
      ],
      "metadata": {
        "id": "jXlKduDU0EiP"
      }
    },
    {
      "cell_type": "code",
      "execution_count": null,
      "metadata": {
        "id": "D6VXwPvIPojb"
      },
      "outputs": [],
      "source": [
        "import shutil\n",
        "src = '/content/model.zip'\n",
        "dst = '/content/drive/cloudcomputing/model.zip'\n",
        "shutil.copyfile(src,dst)\n",
        "# that seemed to work. \n",
        " "
      ]
    }
  ],
  "metadata": {
    "colab": {
      "provenance": []
    },
    "kernelspec": {
      "display_name": "Python 3 (ipykernel)",
      "language": "python",
      "name": "python3"
    },
    "language_info": {
      "codemirror_mode": {
        "name": "ipython",
        "version": 3
      },
      "file_extension": ".py",
      "mimetype": "text/x-python",
      "name": "python",
      "nbconvert_exporter": "python",
      "pygments_lexer": "ipython3",
      "version": "3.9.12"
    }
  },
  "nbformat": 4,
  "nbformat_minor": 0
}